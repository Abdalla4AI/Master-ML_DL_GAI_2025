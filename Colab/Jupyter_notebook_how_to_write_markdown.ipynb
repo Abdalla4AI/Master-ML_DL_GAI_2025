{
 "cells": [
  {
   "cell_type": "markdown",
   "id": "71852383",
   "metadata": {},
   "source": [
    "# Jupyter notebook how to write markdown"
   ]
  },
  {
   "cell_type": "markdown",
   "id": "32366723",
   "metadata": {},
   "source": [
    "In a Jupyter Notebook, you can write Markdown in a cell to include rich text, such as headings, lists, links, images, and code formatting. To write Markdown, follow these steps:\n",
    "\n",
    "**Steps to Use Markdown in Jupyter Notebook:**\n",
    "1. **Change the cell to Markdown:**\n",
    "\n",
    "    * Click on the cell where you want to write Markdown.\n",
    "    * Press `Esc` to enter command mode.\n",
    "    * Press `M` to change the cell type to **Markdown**.\n",
    "Alternatively, you can click on the drop-down menu (usually set to **Code**) and select **Markdown**.\n",
    "\n",
    "2. **Write Markdown content:**\n",
    "\n",
    "    * Now you can write your Markdown content in the cell.\n",
    "\n",
    "3. **Run the cell:**\n",
    "\n",
    "    * To render the Markdown, press `Shift + Enter`, and the content will be displayed in its formatted form.\n",
    "\n",
    "**Common Markdown Syntax in Jupyter Notebooks:**\n",
    "\n",
    "Here are some examples of how to use Markdown in Jupyter Notebooks:"
   ]
  },
  {
   "cell_type": "markdown",
   "id": "6c67b5d5",
   "metadata": {},
   "source": [
    "**Headings**\n",
    "\n",
    "You can create headings using `#`. The number of `#` symbols determines the heading level (1 to 6)."
   ]
  },
  {
   "cell_type": "code",
   "execution_count": null,
   "id": "d426d381",
   "metadata": {},
   "outputs": [],
   "source": [
    "# Heading Level 1\n",
    "## Heading Level 2\n",
    "### Heading Level 3\n",
    "#### Heading Level 4\n",
    "##### Heading Level 5\n",
    "###### Heading Level 6"
   ]
  },
  {
   "cell_type": "markdown",
   "id": "3a1424ed",
   "metadata": {},
   "source": [
    "**Bold and Italics**\n",
    "  * To make text bold, use double asterisks `**` or double underscores `__`.\n",
    "  * To make text italic, use a single asterisk `*` or underscore `_`."
   ]
  },
  {
   "cell_type": "code",
   "execution_count": null,
   "id": "2c5a212b",
   "metadata": {},
   "outputs": [],
   "source": [
    "**Bold text**\n",
    "__Bold text__\n",
    "\n",
    "*Italic text*\n",
    "_Italic text_"
   ]
  },
  {
   "cell_type": "markdown",
   "id": "1f9d9a6e",
   "metadata": {},
   "source": [
    "**Lists**\n",
    "\n",
    "* For an **unordered list**, use `*`, `+`, or `-`.\n",
    "* For an **ordered list**, use numbers followed by a period."
   ]
  },
  {
   "cell_type": "code",
   "execution_count": null,
   "id": "792942f4",
   "metadata": {},
   "outputs": [],
   "source": [
    "- Item 1\n",
    "- Item 2\n",
    "  - Subitem 1\n",
    "  - Subitem 2\n",
    "\n",
    "1. First item\n",
    "2. Second item\n",
    "3. Third item"
   ]
  },
  {
   "cell_type": "markdown",
   "id": "f3966cf6",
   "metadata": {},
   "source": [
    "**Links**\n",
    "\n",
    "To add a link, use the following format:"
   ]
  },
  {
   "cell_type": "code",
   "execution_count": null,
   "id": "07188892",
   "metadata": {},
   "outputs": [],
   "source": [
    "[Link Text](http://www.example.com)"
   ]
  },
  {
   "cell_type": "code",
   "execution_count": null,
   "id": "7bd6ec12",
   "metadata": {},
   "outputs": [],
   "source": [
    "[Google](https://www.google.com)"
   ]
  },
  {
   "cell_type": "markdown",
   "id": "0014eac8",
   "metadata": {},
   "source": [
    "[Google](https://www.google.com)"
   ]
  },
  {
   "cell_type": "markdown",
   "id": "9dc86187",
   "metadata": {},
   "source": [
    "**Images**\n",
    "\n",
    "To add an image, use the following format:"
   ]
  },
  {
   "cell_type": "code",
   "execution_count": null,
   "id": "96e478aa",
   "metadata": {},
   "outputs": [],
   "source": [
    "![Alt text](image_url)"
   ]
  },
  {
   "cell_type": "code",
   "execution_count": null,
   "id": "bbbda8d5",
   "metadata": {},
   "outputs": [],
   "source": [
    "![Python Logo](https://www.python.org/static/community_logos/python-logo.png)"
   ]
  },
  {
   "cell_type": "markdown",
   "id": "41094caf",
   "metadata": {},
   "source": [
    "![Python Logo](https://www.python.org/static/community_logos/python-logo.png)"
   ]
  },
  {
   "cell_type": "markdown",
   "id": "92406043",
   "metadata": {},
   "source": [
    "**Code Blocks**\n",
    "\n",
    "For **inline code**, use backticks (`).\n",
    "\n",
    "For **code blocks**, use triple backticks (` `).\n",
    "\n",
    "Inline code example:"
   ]
  },
  {
   "cell_type": "code",
   "execution_count": null,
   "id": "9f1ad15d",
   "metadata": {},
   "outputs": [],
   "source": [
    "Here is some `inline code`."
   ]
  },
  {
   "cell_type": "markdown",
   "id": "10d298b2",
   "metadata": {},
   "source": [
    "Here is some `inline code`."
   ]
  },
  {
   "cell_type": "code",
   "execution_count": null,
   "id": "16a4b7b2",
   "metadata": {},
   "outputs": [],
   "source": [
    "print(\"Hello, World!\")"
   ]
  },
  {
   "cell_type": "markdown",
   "id": "7e697999",
   "metadata": {},
   "source": [
    "**Mathematical Equations**\n",
    "\n",
    "To write math formulas, you can use **LaTeX syntax** wrapped between dollar signs `$` for inline math or double dollar signs `$$` for block math.\n",
    "\n",
    " * **Inline Math:**"
   ]
  },
  {
   "cell_type": "code",
   "execution_count": null,
   "id": "0d64c2e5",
   "metadata": {},
   "outputs": [],
   "source": [
    "This is an inline equation: $E = mc^2$."
   ]
  },
  {
   "cell_type": "markdown",
   "id": "968f4f67",
   "metadata": {},
   "source": [
    "This is an inline equation: $E = mc^2$."
   ]
  },
  {
   "cell_type": "markdown",
   "id": "96b6ac11",
   "metadata": {},
   "source": [
    " * **Block Math:**"
   ]
  },
  {
   "cell_type": "code",
   "execution_count": null,
   "id": "7a269683",
   "metadata": {},
   "outputs": [],
   "source": [
    "$$\n",
    "E = mc^2\n",
    "$$"
   ]
  },
  {
   "cell_type": "markdown",
   "id": "85b4a867",
   "metadata": {},
   "source": [
    "$$\n",
    "E = mc^2\n",
    "$$"
   ]
  },
  {
   "cell_type": "markdown",
   "id": "9ff6b845",
   "metadata": {},
   "source": [
    "**Example Markdown Content in a Jupyter Notebook Cell**"
   ]
  },
  {
   "cell_type": "markdown",
   "id": "1cad7339",
   "metadata": {},
   "source": [
    "# SVM Regressor on California Housing Dataset\n",
    "\n",
    "In this notebook, we will train an **SVM Regressor** on the California Housing dataset. The goal is to predict housing prices based on various features such as the location, population, and income of the area.\n",
    "\n",
    "## Steps:\n",
    "1. **Import Libraries**  \n",
    "   We will import libraries like `SVR` for Support Vector Regressor and `StandardScaler` for feature scaling.\n",
    "\n",
    "2. **Load and Prepare Data**  \n",
    "   We will load the dataset and split it into training and testing sets.\n",
    "\n",
    "3. **Train the Model**  \n",
    "   We will train the model on the training set using an SVM Regressor.\n",
    "\n",
    "4. **Evaluate Performance**  \n",
    "   Finally, we will evaluate the performance using Mean Squared Error (MSE).\n",
    "\n",
    "## Code Example:\n",
    "\n",
    "```python\n",
    "from sklearn.svm import SVR\n",
    "# Create the model\n",
    "svr = SVR(kernel='rbf', C=1.0, epsilon=0.1)\n",
    "```"
   ]
  }
 ],
 "metadata": {
  "kernelspec": {
   "display_name": "Python 3 (ipykernel)",
   "language": "python",
   "name": "python3"
  },
  "language_info": {
   "codemirror_mode": {
    "name": "ipython",
    "version": 3
   },
   "file_extension": ".py",
   "mimetype": "text/x-python",
   "name": "python",
   "nbconvert_exporter": "python",
   "pygments_lexer": "ipython3",
   "version": "3.8.19"
  }
 },
 "nbformat": 4,
 "nbformat_minor": 5
}
